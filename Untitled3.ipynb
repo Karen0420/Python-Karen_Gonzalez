{
  "nbformat": 4,
  "nbformat_minor": 0,
  "metadata": {
    "colab": {
      "name": "Untitled3.ipynb",
      "provenance": [],
      "authorship_tag": "ABX9TyNKLttHx5lWl1Q/vCguMULO",
      "include_colab_link": true
    },
    "kernelspec": {
      "name": "python3",
      "display_name": "Python 3"
    },
    "language_info": {
      "name": "python"
    }
  },
  "cells": [
    {
      "cell_type": "markdown",
      "metadata": {
        "id": "view-in-github",
        "colab_type": "text"
      },
      "source": [
        "<a href=\"https://colab.research.google.com/github/Karen0420/Python-Karen_Gonzalez/blob/main/Untitled3.ipynb\" target=\"_parent\"><img src=\"https://colab.research.google.com/assets/colab-badge.svg\" alt=\"Open In Colab\"/></a>"
      ]
    },
    {
      "cell_type": "markdown",
      "metadata": {
        "id": "8oe--IJTyXsA"
      },
      "source": [
        "#Tercera Palabra mas larga de una lista \n",
        "##Funcion sort "
      ]
    },
    {
      "cell_type": "code",
      "metadata": {
        "colab": {
          "base_uri": "https://localhost:8080/"
        },
        "id": "2gt6HYqoyWsC",
        "outputId": "3b89de6d-095d-41e9-e430-70d9620ce04d"
      },
      "source": [
        "strlist = [\"Cute\", \"me\", \"california\", \"assume\", \"after\"]\n",
        "def thirdGreatest(strlist):\n",
        "  strlist.sort(key = len,reverse = True)\n",
        "  print(strlist)\n",
        "  return strlist[2]\n",
        "\n",
        "print(thirdGreatest(strlist))\n"
      ],
      "execution_count": 1,
      "outputs": [
        {
          "output_type": "stream",
          "text": [
            "['california', 'assume', 'after', 'Cute', 'me']\n",
            "after\n"
          ],
          "name": "stdout"
        }
      ]
    },
    {
      "cell_type": "markdown",
      "metadata": {
        "id": "oNIH6JX9zlo_"
      },
      "source": [
        "##Funcion sorted"
      ]
    },
    {
      "cell_type": "code",
      "metadata": {
        "colab": {
          "base_uri": "https://localhost:8080/"
        },
        "id": "JYyT552Kzqk4",
        "outputId": "98ddb768-f405-4657-da49-c1cfd0d97c6c"
      },
      "source": [
        "strlist= [\"cute\", \"me\", \"california\", \"assume\", \"after\"]\n",
        "\n",
        "def thirdGreatest(strlist):\n",
        "  x = sorted(strlist,key = len, reverse = True)\n",
        "  \n",
        "  print(strlist)\n",
        "  print(x)\n",
        "  return x[2]\n",
        "\n",
        "print(thirdGreatest(strlist))"
      ],
      "execution_count": 3,
      "outputs": [
        {
          "output_type": "stream",
          "text": [
            "['cute', 'me', 'california', 'assume', 'after']\n",
            "['california', 'assume', 'after', 'cute', 'me']\n",
            "after\n"
          ],
          "name": "stdout"
        }
      ]
    }
  ]
}