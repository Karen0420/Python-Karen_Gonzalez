{
  "nbformat": 4,
  "nbformat_minor": 0,
  "metadata": {
    "colab": {
      "name": "Untitled6.ipynb",
      "provenance": [],
      "authorship_tag": "ABX9TyPO+OGwy9xiI3WEsBRGZByu",
      "include_colab_link": true
    },
    "kernelspec": {
      "name": "python3",
      "display_name": "Python 3"
    },
    "language_info": {
      "name": "python"
    }
  },
  "cells": [
    {
      "cell_type": "markdown",
      "metadata": {
        "id": "view-in-github",
        "colab_type": "text"
      },
      "source": [
        "<a href=\"https://colab.research.google.com/github/Karen0420/Python-Karen_Gonzalez/blob/main/Untitled6.ipynb\" target=\"_parent\"><img src=\"https://colab.research.google.com/assets/colab-badge.svg\" alt=\"Open In Colab\"/></a>"
      ]
    },
    {
      "cell_type": "code",
      "metadata": {
        "id": "YOkgPasX2EkE"
      },
      "source": [
        ""
      ],
      "execution_count": null,
      "outputs": []
    },
    {
      "cell_type": "markdown",
      "metadata": {
        "id": "qjhSc_5i2FHm"
      },
      "source": [
        "#Conversor de colores \n",
        "convertir un color RGB a HEXADECIMAL "
      ]
    },
    {
      "cell_type": "code",
      "metadata": {
        "colab": {
          "base_uri": "https://localhost:8080/"
        },
        "id": "aNucJuXD2V0G",
        "outputId": "afe3af1c-d951-49fb-c9b8-2a92af391c78"
      },
      "source": [
        "red = int (input(\"Enter the Red color: \"))\n",
        "green = int (input(\"Enter the Green color: \"))\n",
        "blue = int (input(\"Enter the Blue color: \"))\n",
        "if ((red >= 0 and red <= 255) and (green >= 0 and green <= 255) and (red >= 0 and red <= 255)):\n",
        "  hex_color = '#{:02x}{:02x}{:02x}'.format(red,green,blue)\n",
        "  print('Hexadecimal value using format:',hex_color)\n",
        "else:\n",
        "  print(\"You entered an invalid number! Bye\")"
      ],
      "execution_count": 1,
      "outputs": [
        {
          "output_type": "stream",
          "text": [
            "Enter the Red color: 2\n",
            "Enter the Green color: 25\n",
            "Enter the Blue color: 20\n",
            "Hexadecimal value using format: #021914\n"
          ],
          "name": "stdout"
        }
      ]
    }
  ]
}