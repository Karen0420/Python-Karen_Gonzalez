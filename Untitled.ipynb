{
  "nbformat": 4,
  "nbformat_minor": 0,
  "metadata": {
    "colab": {
      "name": "Untitled",
      "provenance": [],
      "collapsed_sections": [],
      "authorship_tag": "ABX9TyOCUAWFXs8zNaEG+Nhe1K7r",
      "include_colab_link": true
    },
    "kernelspec": {
      "name": "python3",
      "display_name": "Python 3"
    },
    "language_info": {
      "name": "python"
    }
  },
  "cells": [
    {
      "cell_type": "markdown",
      "metadata": {
        "id": "view-in-github",
        "colab_type": "text"
      },
      "source": [
        "<a href=\"https://colab.research.google.com/github/Karen0420/Python-Karen_Gonzalez/blob/main/Untitled.ipynb\" target=\"_parent\"><img src=\"https://colab.research.google.com/assets/colab-badge.svg\" alt=\"Open In Colab\"/></a>"
      ]
    },
    {
      "cell_type": "markdown",
      "metadata": {
        "id": "AzpQS6WsQu-K"
      },
      "source": [
        "#Practica con numeros aleatorios \n",
        "##Primer desafio \n",
        "Generar 10 numeros aleatorios en un rango entre  5 y 50"
      ]
    },
    {
      "cell_type": "code",
      "metadata": {
        "colab": {
          "base_uri": "https://localhost:8080/"
        },
        "id": "u0JqXQDRQzH5",
        "outputId": "a1f38f70-1d49-468e-c13b-6caf44a552f1"
      },
      "source": [
        "import random\n",
        "my_list=[]\n",
        "for _ in range(10):\n",
        "  rand_num = random.randint(5,50)\n",
        "  my_list.append(rand_num)\n",
        "print(my_list)"
      ],
      "execution_count": null,
      "outputs": [
        {
          "output_type": "stream",
          "text": [
            "[19, 9, 37, 19, 6, 43, 35, 34, 38, 30]\n"
          ],
          "name": "stdout"
        }
      ]
    },
    {
      "cell_type": "markdown",
      "metadata": {
        "id": "GHF5T6gykCC8"
      },
      "source": [
        "##Segundo Desafio \n",
        "Generar 20 numeros pares aleatorios entre 0 y 100"
      ]
    },
    {
      "cell_type": "code",
      "metadata": {
        "colab": {
          "base_uri": "https://localhost:8080/"
        },
        "id": "K-bqPbq_kEWz",
        "outputId": "d08ceb6d-247d-4402-e1e0-6478966d3ba3"
      },
      "source": [
        "import random \n",
        "my_list=[]\n",
        "for _ in range(20): \n",
        "  num = random.randrange(0,100,2)\n",
        "  my_list.append(num)\n",
        "print(my_list)"
      ],
      "execution_count": null,
      "outputs": [
        {
          "output_type": "stream",
          "text": [
            "[44, 76, 26, 78, 50, 66, 60, 90, 38, 42, 72, 8, 96, 88, 32, 8, 82, 4, 84, 42]\n"
          ],
          "name": "stdout"
        }
      ]
    },
    {
      "cell_type": "markdown",
      "metadata": {
        "id": "G_qTxyl4tEuc"
      },
      "source": [
        "##Tercer Desafio \n",
        "Generar 10 numero aleatorios multiplos de 5"
      ]
    },
    {
      "cell_type": "code",
      "metadata": {
        "colab": {
          "base_uri": "https://localhost:8080/"
        },
        "id": "BTEZx4WXtWa7",
        "outputId": "389f467d-c195-437a-e905-a525f1210ae8"
      },
      "source": [
        "import random\n",
        "for _ in range(10):\n",
        "  rand_num = random.randint(1,10)*5\n",
        "print(rand_num)"
      ],
      "execution_count": null,
      "outputs": [
        {
          "output_type": "stream",
          "text": [
            "5\n"
          ],
          "name": "stdout"
        }
      ]
    },
    {
      "cell_type": "markdown",
      "metadata": {
        "id": "CamxNinBuymO"
      },
      "source": [
        "##Cuarto Desafio \n",
        "Generar una lista con 20 numeros secuenciales e imprimirlos de una forma desorganizada aleatoriamente"
      ]
    },
    {
      "cell_type": "code",
      "metadata": {
        "colab": {
          "base_uri": "https://localhost:8080/"
        },
        "id": "3D2g1W_svEil",
        "outputId": "dc2fb752-5aa6-4a4b-f1fd-f7a9420da041"
      },
      "source": [
        "import random \n",
        "some_nums = [i for i in range(1,21)]\n",
        "print(some_nums)\n",
        "random.shuffle(some_nums)\n",
        "print(\"Randomized: \\n\", some_nums)"
      ],
      "execution_count": null,
      "outputs": [
        {
          "output_type": "stream",
          "text": [
            "[1, 2, 3, 4, 5, 6, 7, 8, 9, 10, 11, 12, 13, 14, 15, 16, 17, 18, 19, 20]\n",
            "Randomized: \n",
            " [2, 5, 13, 3, 1, 4, 16, 6, 12, 11, 18, 19, 17, 10, 7, 14, 20, 15, 9, 8]\n"
          ],
          "name": "stdout"
        }
      ]
    },
    {
      "cell_type": "markdown",
      "metadata": {
        "id": "MNN_aoZQ2P2g"
      },
      "source": [
        "#Como encontrar el numero mas grande de una lista \n",
        "##Primera Forma\n",
        "Se pide al usuario que ingrese el maximo de numeros que tendra la lista, luego que ingrese cada uno de los numeros que tendra la lista, despues mostrar en panatalla la lista original que ha elaborado el usuario y al final mostrar el numero mayor de esa lista, accediendo al ultimo numero ingresado \n"
      ]
    },
    {
      "cell_type": "code",
      "metadata": {
        "colab": {
          "base_uri": "https://localhost:8080/"
        },
        "id": "34A1CQWL6fVU",
        "outputId": "a7552714-d8d4-4e59-f430-63f2009f34ff"
      },
      "source": [
        "my_list = []\n",
        "num_elements = int (input(\"Enter the Whole number of elements: \"))\n",
        "for i in range(num_elements):\n",
        "  each_element = int (input(\"Enter each element of your list: \"))\n",
        "  my_list.append(each_element)\n",
        "print(\"Original list: \", my_list)\n",
        "my_list.sort()\n",
        "print(\"sorted List: \", my_list)\n",
        "print(\"The Largest Number is: \", my_list[-1])"
      ],
      "execution_count": null,
      "outputs": [
        {
          "output_type": "stream",
          "text": [
            "Enter the Whole number of elements: 5\n",
            "Enter each element of your list: 2\n",
            "Enter each element of your list: 7\n",
            "Enter each element of your list: 5\n",
            "Enter each element of your list: 3\n",
            "Enter each element of your list: 1\n",
            "Original list:  [2, 7, 5, 3, 1]\n",
            "sorted List:  [1, 2, 3, 5, 7]\n",
            "The Largest Number is:  7\n"
          ],
          "name": "stdout"
        }
      ]
    },
    {
      "cell_type": "markdown",
      "metadata": {
        "id": "kFe2pfkB_31l"
      },
      "source": [
        "##Segunda Forma \n",
        "este metodo es una variacion del anterior, en este caso se va a llegar la lista con numeros que elija el usuario y luego se define una variable que se va a asignar al primer elemento de la lista, para asi poder hacer una validacion con esa variable y el numero que se vaya añadiendo y de este modo conseguir el numero mayor de la lista"
      ]
    },
    {
      "cell_type": "code",
      "metadata": {
        "colab": {
          "base_uri": "https://localhost:8080/"
        },
        "id": "6M_35v--B3_D",
        "outputId": "3a7691f4-9ce8-4285-f22e-b5a9defae708"
      },
      "source": [
        "my_list = []\n",
        "num_elements = int (input(\"Enter the whole number of elements: \"))\n",
        "for i in range(num_elements):\n",
        "  each_element = int (input(\"Enter each element of your list: \"))\n",
        "  my_list.append(each_element)\n",
        "Longest = my_list[0]\n",
        "for k in my_list:\n",
        "  if (k > Longest):\n",
        "    Longest = k\n",
        "print(\"The Largest Number: \", Longest)"
      ],
      "execution_count": null,
      "outputs": [
        {
          "output_type": "stream",
          "text": [
            "Enter the whole number of elements: 4\n",
            "Enter each element of your list: 2\n",
            "Enter each element of your list: 9\n",
            "Enter each element of your list: 7\n",
            "Enter each element of your list: 5\n",
            "The Largest Number:  9\n"
          ],
          "name": "stdout"
        }
      ]
    },
    {
      "cell_type": "markdown",
      "metadata": {
        "id": "RcbzuQkCGEjo"
      },
      "source": [
        "##Tercera forma:\n",
        "Con Funcion "
      ]
    },
    {
      "cell_type": "code",
      "metadata": {
        "colab": {
          "base_uri": "https://localhost:8080/"
        },
        "id": "tm-Gk8jTGKnO",
        "outputId": "b61eae80-9839-4f47-8600-3a2c3accf5ee"
      },
      "source": [
        "def findLargestNum(nums):\n",
        "  largest = nums[0]\n",
        "  for i in nums:\n",
        "    if (i > largest):\n",
        "      largest = i \n",
        "  print(\"The Largest Number Is: \", largest)\n",
        "\n",
        "findLargestNum([6,1,-3,33,2])"
      ],
      "execution_count": null,
      "outputs": [
        {
          "output_type": "stream",
          "text": [
            "The Largest Number Is:  33\n"
          ],
          "name": "stdout"
        }
      ]
    },
    {
      "cell_type": "markdown",
      "metadata": {
        "id": "DZYZ4s5VRqZq"
      },
      "source": [
        "##Cuarta forma \n",
        "forma rapida de encontrar el numero mayor con el metodo de python: max()"
      ]
    },
    {
      "cell_type": "code",
      "metadata": {
        "colab": {
          "base_uri": "https://localhost:8080/"
        },
        "id": "RsEZeUi2R_tD",
        "outputId": "dae81984-0a9f-4afc-f22e-646966f9fbc6"
      },
      "source": [
        "def findLargestNum(nums):\n",
        "  findLargestNum = max(nums)\n",
        "  return findLargestNum\n",
        "\n",
        "findLargestNum([4,5,1,3,7,2])"
      ],
      "execution_count": null,
      "outputs": [
        {
          "output_type": "execute_result",
          "data": {
            "text/plain": [
              "7"
            ]
          },
          "metadata": {
            "tags": []
          },
          "execution_count": 1
        }
      ]
    },
    {
      "cell_type": "markdown",
      "metadata": {
        "id": "0LtYTUogTxzQ"
      },
      "source": [
        "#Numeros Pares e Impares\n",
        "##Version 1 Basica \n"
      ]
    },
    {
      "cell_type": "code",
      "metadata": {
        "colab": {
          "base_uri": "https://localhost:8080/"
        },
        "id": "3qGK3kkbUKYZ",
        "outputId": "8fa92cdb-aaae-44c7-ea49-34368f745680"
      },
      "source": [
        "number = 0\n",
        "number = int (input(\"Introduzca un numero  \"))\n",
        "if number%2 == 0: \n",
        "  print(\"El numero \", number, \"es par \")\n",
        "else:\n",
        "  print(\"El numero \", number,\" es impar\")"
      ],
      "execution_count": null,
      "outputs": [
        {
          "output_type": "stream",
          "text": [
            "Introduzca un numero  2\n",
            "El numero  2 es par \n"
          ],
          "name": "stdout"
        }
      ]
    },
    {
      "cell_type": "markdown",
      "metadata": {
        "id": "dsZg0M5QU2Vc"
      },
      "source": [
        "##Version 2 Compleja \n",
        "con validacion de datos "
      ]
    },
    {
      "cell_type": "code",
      "metadata": {
        "colab": {
          "base_uri": "https://localhost:8080/"
        },
        "id": "JZR5NHHhU7FS",
        "outputId": "d1487d27-8244-44ad-bb52-4e91b9ab3f74"
      },
      "source": [
        "while True:\n",
        "  try:\n",
        "     number = int (input(\"Enter a number  \"))\n",
        "  except ValueError:\n",
        "    print(\"Not an interger ! Try again!\" )\n",
        "    break\n",
        "  if number%2 == 0:\n",
        "     print(\"The Number \", number, \" it\\'s even\")\n",
        "  else:\n",
        "     print(\"The Nomber \", number, \" it\\'s odd\")\n",
        "  break"
      ],
      "execution_count": null,
      "outputs": [
        {
          "output_type": "stream",
          "text": [
            "Enter a number  2\n",
            "The Number  2  it's even\n"
          ],
          "name": "stdout"
        }
      ]
    },
    {
      "cell_type": "markdown",
      "metadata": {
        "id": "srNoKQ5taW3V"
      },
      "source": [
        "#Suma de Pares e Impares \n",
        "desde 0 a N "
      ]
    },
    {
      "cell_type": "code",
      "metadata": {
        "colab": {
          "base_uri": "https://localhost:8080/"
        },
        "id": "-4aneb_ObGcZ",
        "outputId": "df8b99c9-2291-478f-b0c5-5faa3f4fd450"
      },
      "source": [
        "total = 0\n",
        "num = int (input(\"Please, enter a number \"))\n",
        "even_numbers = []\n",
        "for i in range(0, num + 1):\n",
        "  if i % 2 == 0:\n",
        "    even_numbers.append(i)\n",
        "    total += i \n",
        "print(f\"All even numbers from 0 to {num} is: {even_numbers}\")\n",
        "print(\"------------\")\n",
        "print(\"The sum of even numbers from 0 to {}\".format(total))"
      ],
      "execution_count": null,
      "outputs": [
        {
          "output_type": "stream",
          "text": [
            "Please, enter a number 12\n",
            "All even numbers from 0 to 12 is: [0, 2, 4, 6, 8, 10, 12]\n",
            "------------\n",
            "The sum of even numbers from 0 to 42\n"
          ],
          "name": "stdout"
        }
      ]
    },
    {
      "cell_type": "markdown",
      "metadata": {
        "id": "v4-FOfu14DKF"
      },
      "source": [
        "#Como determinar el numero de digitos de un numero \n"
      ]
    },
    {
      "cell_type": "code",
      "metadata": {
        "colab": {
          "base_uri": "https://localhost:8080/"
        },
        "id": "2vid7ibl4OWR",
        "outputId": "687499d4-9df4-4d67-c85c-028d7a252857"
      },
      "source": [
        "user_input = int (input(\"Enter a number: \"))\n",
        "user_input = abs(user_input)\n",
        "print(\"Your original number is: {}\".format(user_input))\n",
        "count = 0\n",
        "while user_input > 0:\n",
        "  user_input//= 10\n",
        "  count += 1\n",
        "print(\"Numbers of digits in your number is: {}\".format(count))"
      ],
      "execution_count": null,
      "outputs": [
        {
          "output_type": "stream",
          "text": [
            "Enter a number: 125\n",
            "Your original number is: 125\n",
            "Numbers of digits in your number is: 3\n"
          ],
          "name": "stdout"
        }
      ]
    },
    {
      "cell_type": "markdown",
      "metadata": {
        "id": "wpVFJdNdvnYP"
      },
      "source": [
        "#Como separar todos los digitos de un numero \n",
        "#Primer metodo"
      ]
    },
    {
      "cell_type": "code",
      "metadata": {
        "colab": {
          "base_uri": "https://localhost:8080/"
        },
        "id": "dCOnzMvkxiRW",
        "outputId": "a1df36fb-9eb2-4280-9eaa-ef15e9b4a0b5"
      },
      "source": [
        "lst = []\n",
        "def string_int(my_data):\n",
        "  for i in my_data:\n",
        "    lst.append(int(i))\n",
        "  print(lst)\n",
        "user_input = input(\"Enter a number\")\n",
        "string_int(user_input)"
      ],
      "execution_count": null,
      "outputs": [
        {
          "output_type": "stream",
          "text": [
            "Enter a number745\n",
            "[7, 4, 5]\n"
          ],
          "name": "stdout"
        }
      ]
    },
    {
      "cell_type": "markdown",
      "metadata": {
        "id": "5vRDXjfhyj5C"
      },
      "source": [
        "##Segundo Metodo "
      ]
    },
    {
      "cell_type": "code",
      "metadata": {
        "colab": {
          "base_uri": "https://localhost:8080/"
        },
        "id": "lJQnNKBWymBz",
        "outputId": "8ba68c67-fb7f-41cc-b750-dba95d5fa757"
      },
      "source": [
        "def string_int(txt):\n",
        "  num_int = [int(i) for i in txt]\n",
        "  print(num_int)\n",
        "user_in = input(\"Enter a number: \")\n",
        "string_int(user_in)"
      ],
      "execution_count": null,
      "outputs": [
        {
          "output_type": "stream",
          "text": [
            "Enter a number: 85412\n",
            "[8, 5, 4, 1, 2]\n"
          ],
          "name": "stdout"
        }
      ]
    },
    {
      "cell_type": "markdown",
      "metadata": {
        "id": "5fCKY9Vn2INL"
      },
      "source": [
        "#Suma de n numeros "
      ]
    },
    {
      "cell_type": "code",
      "metadata": {
        "colab": {
          "base_uri": "https://localhost:8080/"
        },
        "id": "uNgLNju22N1v",
        "outputId": "fff9c081-f9fd-4be5-c6a7-bfad3a670d65"
      },
      "source": [
        "total = 0\n",
        "num = 100\n",
        "for i in range(0,num+1):\n",
        "  total = total + i \n",
        "print(\"The sum of numbers from 0 to {} is: {}\".format(num,total))"
      ],
      "execution_count": null,
      "outputs": [
        {
          "output_type": "stream",
          "text": [
            "The sum of numbers from 0 to 100 is: 5050\n"
          ],
          "name": "stdout"
        }
      ]
    },
    {
      "cell_type": "markdown",
      "metadata": {
        "id": "q_kDyjZY26Ar"
      },
      "source": [
        "##Segunda forma:\n",
        "se solicita al usuario el numero "
      ]
    },
    {
      "cell_type": "code",
      "metadata": {
        "colab": {
          "base_uri": "https://localhost:8080/"
        },
        "id": "m9bQA3r-3DVM",
        "outputId": "b8831893-6cbc-4f2d-986c-6d7819bcc075"
      },
      "source": [
        "total = 0\n",
        "num = int (input(\"Please, enter a number: \"))\n",
        "for i in range(0,num+1):\n",
        "  total += i\n",
        "print(\"The sum of numbers from 0 to {} is: {}\".format(num,total))"
      ],
      "execution_count": null,
      "outputs": [
        {
          "output_type": "stream",
          "text": [
            "Please, enter a number: 15\n",
            "The sum of numbers from 0 to 15 is: 120\n"
          ],
          "name": "stdout"
        }
      ]
    },
    {
      "cell_type": "markdown",
      "metadata": {
        "id": "FpCB1QBu3w2H"
      },
      "source": [
        "##Reutilizar el codigo:\n",
        "se crea dentro de una funcion "
      ]
    },
    {
      "cell_type": "code",
      "metadata": {
        "colab": {
          "base_uri": "https://localhost:8080/"
        },
        "id": "BJlU5Tal332G",
        "outputId": "52012dff-40b4-4bfa-a778-319f45cef970"
      },
      "source": [
        "def sumOf(num):\n",
        "  total = 0\n",
        "  for i in range(1,num+1):\n",
        "   total += i \n",
        "  return total \n",
        "print(sumOf(10))\n"
      ],
      "execution_count": null,
      "outputs": [
        {
          "output_type": "stream",
          "text": [
            "55\n"
          ],
          "name": "stdout"
        }
      ]
    },
    {
      "cell_type": "markdown",
      "metadata": {
        "id": "i_KfHoJa46HT"
      },
      "source": [
        "#Crear contador de pares e impares "
      ]
    },
    {
      "cell_type": "code",
      "metadata": {
        "colab": {
          "base_uri": "https://localhost:8080/"
        },
        "id": "4MqTJWth8sAI",
        "outputId": "dfa1443b-8aba-423f-9f4b-49dcba7419c4"
      },
      "source": [
        "user_input = int (input(\"Enter your number: \"))\n",
        "even_num = 0 \n",
        "odd_num = 0\n",
        "while user_input > 0:\n",
        "  if user_input%2 == 0:\n",
        "     even_num += 1\n",
        "     break\n",
        "  else:\n",
        "      odd_num += 1\n",
        "      break \n",
        "user_input = user_input//10\n",
        "print(f\"number of even numbers: {even_num} | number of odd numbers: {odd_num}\")"
      ],
      "execution_count": null,
      "outputs": [
        {
          "output_type": "stream",
          "text": [
            "Enter your number: 12\n",
            "number of even numbers: 1 | number of odd numbers: 0\n"
          ],
          "name": "stdout"
        }
      ]
    },
    {
      "cell_type": "markdown",
      "metadata": {
        "id": "wGUK_7lWdn__"
      },
      "source": [
        ""
      ]
    },
    {
      "cell_type": "code",
      "metadata": {
        "colab": {
          "base_uri": "https://localhost:8080/"
        },
        "id": "tZGHt637fI_c",
        "outputId": "e17b7ce6-8f05-4fba-88e6-898d2f62e984"
      },
      "source": [
        "def even_odd_counter(arr_values):\n",
        "  count_even = 0\n",
        "  count_odd = 0 \n",
        "\n",
        "  even_odd = []\n",
        "  print(even_odd)\n",
        "\n",
        "  for i in arr_values:\n",
        "    if i % 2 == 0:\n",
        "      count_even += 1\n",
        "    else:\n",
        "      count_odd += 1\n",
        "\n",
        "  even_odd.append(count_even)\n",
        "  even_odd.append(count_odd)\n",
        "  print(even_odd)\n",
        "  print(\"Even: {} | odd: {}\".format(even_odd[0],even_odd[1]))\n",
        "\n",
        "even_odd_counter([5,7,23,4,9,15])"
      ],
      "execution_count": null,
      "outputs": [
        {
          "output_type": "stream",
          "text": [
            "[]\n",
            "[1, 5]\n",
            "Even: 1 | odd: 5\n"
          ],
          "name": "stdout"
        }
      ]
    },
    {
      "cell_type": "markdown",
      "metadata": {
        "id": "QdfbiLr78jsA"
      },
      "source": [
        "#Tabla de multiplicacion "
      ]
    },
    {
      "cell_type": "code",
      "metadata": {
        "colab": {
          "base_uri": "https://localhost:8080/",
          "height": 367
        },
        "id": "IwfjMnjTFixn",
        "outputId": "c4c23ba4-6b5f-4501-c6bd-d353491a82ac"
      },
      "source": [
        "import sys\n",
        "\n",
        "def multi_table():\n",
        "  num = int (input(\"Please, enter a number: \"))\n",
        "  limit = int (input(\"What is the limit of the multiplication table?: \"))\n",
        "\n",
        "  for i in range(1,limit+1):\n",
        "    product = num * i \n",
        "    print(f\"{num} * {i} = {product}\")\n",
        "\n",
        "  print(\"Create another table? \\n 1-Yes \\n 2-No\")\n",
        "  x = input().lower()\n",
        "  if (x == 1 or x == \"Yes\"):\n",
        "    multi_table()\n",
        "  else:\n",
        "    print(\"Bye, Bye\")\n",
        "    sys.exit(1)\n",
        "\n",
        "\n",
        "multi_table()\n"
      ],
      "execution_count": null,
      "outputs": [
        {
          "output_type": "stream",
          "text": [
            "Please, enter a number: 2\n",
            "What is the limit of the multiplication table?: 6\n",
            "2 * 1 = 2\n",
            "2 * 2 = 4\n",
            "2 * 3 = 6\n",
            "2 * 4 = 8\n",
            "2 * 5 = 10\n",
            "2 * 6 = 12\n",
            "Create another table? \n",
            " 1-Yes \n",
            " 2-No\n",
            "2\n",
            "Bye, Bye\n"
          ],
          "name": "stdout"
        },
        {
          "output_type": "error",
          "ename": "SystemExit",
          "evalue": "ignored",
          "traceback": [
            "An exception has occurred, use %tb to see the full traceback.\n",
            "\u001b[0;31mSystemExit\u001b[0m\u001b[0;31m:\u001b[0m 1\n"
          ]
        },
        {
          "output_type": "stream",
          "text": [
            "/usr/local/lib/python3.7/dist-packages/IPython/core/interactiveshell.py:2890: UserWarning: To exit: use 'exit', 'quit', or Ctrl-D.\n",
            "  warn(\"To exit: use 'exit', 'quit', or Ctrl-D.\", stacklevel=1)\n"
          ],
          "name": "stderr"
        }
      ]
    },
    {
      "cell_type": "markdown",
      "metadata": {
        "id": "j6j1ll-cKRrm"
      },
      "source": [
        "#Numeros del 1 al 100 \n",
        "sin Loops"
      ]
    },
    {
      "cell_type": "code",
      "metadata": {
        "colab": {
          "base_uri": "https://localhost:8080/"
        },
        "id": "zw58TCpHKYS2",
        "outputId": "ea0f0be0-2fa2-4cf4-e846-6173a3bff963"
      },
      "source": [
        "def hundreNums(num):\n",
        "  if num != 101:\n",
        "    print(num)\n",
        "    num += 1\n",
        "    hundreNums(num)\n",
        "  else:\n",
        "    return\n",
        "\n",
        "hundreNums(1)"
      ],
      "execution_count": null,
      "outputs": [
        {
          "output_type": "stream",
          "text": [
            "1\n",
            "2\n",
            "3\n",
            "4\n",
            "5\n",
            "6\n",
            "7\n",
            "8\n",
            "9\n",
            "10\n",
            "11\n",
            "12\n",
            "13\n",
            "14\n",
            "15\n",
            "16\n",
            "17\n",
            "18\n",
            "19\n",
            "20\n",
            "21\n",
            "22\n",
            "23\n",
            "24\n",
            "25\n",
            "26\n",
            "27\n",
            "28\n",
            "29\n",
            "30\n",
            "31\n",
            "32\n",
            "33\n",
            "34\n",
            "35\n",
            "36\n",
            "37\n",
            "38\n",
            "39\n",
            "40\n",
            "41\n",
            "42\n",
            "43\n",
            "44\n",
            "45\n",
            "46\n",
            "47\n",
            "48\n",
            "49\n",
            "50\n",
            "51\n",
            "52\n",
            "53\n",
            "54\n",
            "55\n",
            "56\n",
            "57\n",
            "58\n",
            "59\n",
            "60\n",
            "61\n",
            "62\n",
            "63\n",
            "64\n",
            "65\n",
            "66\n",
            "67\n",
            "68\n",
            "69\n",
            "70\n",
            "71\n",
            "72\n",
            "73\n",
            "74\n",
            "75\n",
            "76\n",
            "77\n",
            "78\n",
            "79\n",
            "80\n",
            "81\n",
            "82\n",
            "83\n",
            "84\n",
            "85\n",
            "86\n",
            "87\n",
            "88\n",
            "89\n",
            "90\n",
            "91\n",
            "92\n",
            "93\n",
            "94\n",
            "95\n",
            "96\n",
            "97\n",
            "98\n",
            "99\n",
            "100\n"
          ],
          "name": "stdout"
        }
      ]
    },
    {
      "cell_type": "markdown",
      "metadata": {
        "id": "j5AwwS6dOQZi"
      },
      "source": [
        "#Numeros Secuenciales \n",
        "##List Comprehension"
      ]
    },
    {
      "cell_type": "code",
      "metadata": {
        "colab": {
          "base_uri": "https://localhost:8080/"
        },
        "id": "y0YLIjEzOYmR",
        "outputId": "61d7db88-bca8-43a5-b1b8-f03c1d3dabd0"
      },
      "source": [
        "seq_numbers = [i for i in range(1,21)]\n",
        "print(seq_numbers)\n"
      ],
      "execution_count": null,
      "outputs": [
        {
          "output_type": "stream",
          "text": [
            "[1, 2, 3, 4, 5, 6, 7, 8, 9, 10, 11, 12, 13, 14, 15, 16, 17, 18, 19, 20]\n"
          ],
          "name": "stdout"
        }
      ]
    },
    {
      "cell_type": "markdown",
      "metadata": {
        "id": "VFe0gFawOnAU"
      },
      "source": [
        "##Generator Expression "
      ]
    },
    {
      "cell_type": "code",
      "metadata": {
        "colab": {
          "base_uri": "https://localhost:8080/"
        },
        "id": "yttaGQQYOso7",
        "outputId": "560dec7e-e3b8-4be2-fcb0-a1863b358267"
      },
      "source": [
        "seq_nums = list (i for i in range(1,21))\n",
        "print(seq_nums)"
      ],
      "execution_count": null,
      "outputs": [
        {
          "output_type": "stream",
          "text": [
            "[1, 2, 3, 4, 5, 6, 7, 8, 9, 10, 11, 12, 13, 14, 15, 16, 17, 18, 19, 20]\n"
          ],
          "name": "stdout"
        }
      ]
    },
    {
      "cell_type": "markdown",
      "metadata": {
        "id": "1JiJ7JDMO_Za"
      },
      "source": [
        "##Classical for Loop"
      ]
    },
    {
      "cell_type": "code",
      "metadata": {
        "colab": {
          "base_uri": "https://localhost:8080/"
        },
        "id": "61DzjdkOPEza",
        "outputId": "90062f93-8a6f-46e3-8d41-61bf89034ee8"
      },
      "source": [
        "my_lst = []\n",
        "\n",
        "for x in range(1,21):\n",
        "  my_lst.append(x)\n",
        "\n",
        "  print(my_lst)"
      ],
      "execution_count": null,
      "outputs": [
        {
          "output_type": "stream",
          "text": [
            "[1]\n",
            "[1, 2]\n",
            "[1, 2, 3]\n",
            "[1, 2, 3, 4]\n",
            "[1, 2, 3, 4, 5]\n",
            "[1, 2, 3, 4, 5, 6]\n",
            "[1, 2, 3, 4, 5, 6, 7]\n",
            "[1, 2, 3, 4, 5, 6, 7, 8]\n",
            "[1, 2, 3, 4, 5, 6, 7, 8, 9]\n",
            "[1, 2, 3, 4, 5, 6, 7, 8, 9, 10]\n",
            "[1, 2, 3, 4, 5, 6, 7, 8, 9, 10, 11]\n",
            "[1, 2, 3, 4, 5, 6, 7, 8, 9, 10, 11, 12]\n",
            "[1, 2, 3, 4, 5, 6, 7, 8, 9, 10, 11, 12, 13]\n",
            "[1, 2, 3, 4, 5, 6, 7, 8, 9, 10, 11, 12, 13, 14]\n",
            "[1, 2, 3, 4, 5, 6, 7, 8, 9, 10, 11, 12, 13, 14, 15]\n",
            "[1, 2, 3, 4, 5, 6, 7, 8, 9, 10, 11, 12, 13, 14, 15, 16]\n",
            "[1, 2, 3, 4, 5, 6, 7, 8, 9, 10, 11, 12, 13, 14, 15, 16, 17]\n",
            "[1, 2, 3, 4, 5, 6, 7, 8, 9, 10, 11, 12, 13, 14, 15, 16, 17, 18]\n",
            "[1, 2, 3, 4, 5, 6, 7, 8, 9, 10, 11, 12, 13, 14, 15, 16, 17, 18, 19]\n",
            "[1, 2, 3, 4, 5, 6, 7, 8, 9, 10, 11, 12, 13, 14, 15, 16, 17, 18, 19, 20]\n"
          ],
          "name": "stdout"
        }
      ]
    },
    {
      "cell_type": "markdown",
      "metadata": {
        "id": "rgEy1e7saHne"
      },
      "source": [
        ""
      ]
    },
    {
      "cell_type": "markdown",
      "metadata": {
        "id": "tYbLXHNSPipn"
      },
      "source": [
        "##Solicitar el maximo numero de la lista"
      ]
    },
    {
      "cell_type": "code",
      "metadata": {
        "colab": {
          "base_uri": "https://localhost:8080/"
        },
        "id": "qIk1N2oWProc",
        "outputId": "3895ca59-0bf8-464b-dab4-b3de6d11328b"
      },
      "source": [
        "user_input = int (input(\"Enter your range of numbers: \"))\n",
        "some_numbers = [j for j in range(1,user_input+1)]\n",
        "\n",
        "print(some_numbers)"
      ],
      "execution_count": null,
      "outputs": [
        {
          "output_type": "stream",
          "text": [
            "Enter your range of numbers: 20\n",
            "[1, 2, 3, 4, 5, 6, 7, 8, 9, 10, 11, 12, 13, 14, 15, 16, 17, 18, 19, 20]\n"
          ],
          "name": "stdout"
        }
      ]
    },
    {
      "cell_type": "markdown",
      "metadata": {
        "id": "NxLTnYITQCCS"
      },
      "source": [
        "##Mostrar la lista de numeros en una sola linea de codigo "
      ]
    },
    {
      "cell_type": "code",
      "metadata": {
        "colab": {
          "base_uri": "https://localhost:8080/"
        },
        "id": "3uW-Ds1xQGvO",
        "outputId": "579db645-31fa-45f1-83ee-c23bd56876c3"
      },
      "source": [
        "print(list(range(1,21)))"
      ],
      "execution_count": null,
      "outputs": [
        {
          "output_type": "stream",
          "text": [
            "[1, 2, 3, 4, 5, 6, 7, 8, 9, 10, 11, 12, 13, 14, 15, 16, 17, 18, 19, 20]\n"
          ],
          "name": "stdout"
        }
      ]
    }
  ]
}