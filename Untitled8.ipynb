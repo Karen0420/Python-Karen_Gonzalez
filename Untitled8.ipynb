{
  "nbformat": 4,
  "nbformat_minor": 0,
  "metadata": {
    "colab": {
      "name": "Untitled8.ipynb",
      "provenance": [],
      "authorship_tag": "ABX9TyOzTzGEoKhIk/R+oebHd+qH",
      "include_colab_link": true
    },
    "kernelspec": {
      "name": "python3",
      "display_name": "Python 3"
    },
    "language_info": {
      "name": "python"
    }
  },
  "cells": [
    {
      "cell_type": "markdown",
      "metadata": {
        "id": "view-in-github",
        "colab_type": "text"
      },
      "source": [
        "<a href=\"https://colab.research.google.com/github/Karen0420/Python-Karen_Gonzalez/blob/main/Untitled8.ipynb\" target=\"_parent\"><img src=\"https://colab.research.google.com/assets/colab-badge.svg\" alt=\"Open In Colab\"/></a>"
      ]
    },
    {
      "cell_type": "markdown",
      "metadata": {
        "id": "KXOp9RoDGzM7"
      },
      "source": [
        "#Figuras con *"
      ]
    },
    {
      "cell_type": "code",
      "metadata": {
        "colab": {
          "base_uri": "https://localhost:8080/"
        },
        "id": "L0F8Z73_G3Hq",
        "outputId": "e0459473-f5a9-495e-f91a-27a725a18b80"
      },
      "source": [
        "num = 10\n",
        "for i in range(num):\n",
        "  print(\" \" * (num - i - 1) + \"*\" * (2 * i + 1))\n",
        "\n",
        "for n in range(int (num/2)):\n",
        "  print(\" \" * int (num - num/4) + \"*\" * int (num/2))\n",
        "\n"
      ],
      "execution_count": 7,
      "outputs": [
        {
          "output_type": "stream",
          "text": [
            "         *\n",
            "        ***\n",
            "       *****\n",
            "      *******\n",
            "     *********\n",
            "    ***********\n",
            "   *************\n",
            "  ***************\n",
            " *****************\n",
            "*******************\n",
            "       *****\n",
            "       *****\n",
            "       *****\n",
            "       *****\n",
            "       *****\n"
          ],
          "name": "stdout"
        }
      ]
    }
  ]
}