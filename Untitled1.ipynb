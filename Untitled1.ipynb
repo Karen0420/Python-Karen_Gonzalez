{
  "nbformat": 4,
  "nbformat_minor": 0,
  "metadata": {
    "colab": {
      "name": "Untitled1.ipynb",
      "provenance": [],
      "authorship_tag": "ABX9TyPzJBuOwGnAQbf+rwK6i3fE",
      "include_colab_link": true
    },
    "kernelspec": {
      "name": "python3",
      "display_name": "Python 3"
    },
    "language_info": {
      "name": "python"
    }
  },
  "cells": [
    {
      "cell_type": "markdown",
      "metadata": {
        "id": "view-in-github",
        "colab_type": "text"
      },
      "source": [
        "<a href=\"https://colab.research.google.com/github/Karen0420/Python-Karen_Gonzalez/blob/main/Untitled1.ipynb\" target=\"_parent\"><img src=\"https://colab.research.google.com/assets/colab-badge.svg\" alt=\"Open In Colab\"/></a>"
      ]
    },
    {
      "cell_type": "markdown",
      "metadata": {
        "id": "8uYfZzousPu9"
      },
      "source": [
        "#Calcular la temperatura media"
      ]
    },
    {
      "cell_type": "code",
      "metadata": {
        "colab": {
          "base_uri": "https://localhost:8080/"
        },
        "id": "-AlfswILukU0",
        "outputId": "3508a342-2b50-46ca-84da-8b1d260ec2dd"
      },
      "source": [
        "all_days = int (input(\"How many day's Temperature: \"))\n",
        "total = 0\n",
        "temp = []\n",
        "for i in range(all_days):\n",
        "  next_day = int (input(f\"High Temperature for day {(i+1)}: \"))\n",
        "  temp.append(next_day)\n",
        "  total += temp[i]\n",
        "\n",
        "average_temp = round(total/all_days,2)\n",
        "print(\"Average Temperature: {}\".format(average_temp))\n",
        "print(total)\n",
        "print(temp)\n",
        "\n",
        "above_counter = 0\n",
        "lst_nums_above = []\n",
        "for x in temp:\n",
        "  if x > average_temp:\n",
        "    lst_nums_above.append(x)\n",
        "    above_counter += 1\n",
        "  print(f\"{above_counter} days above average: {lst_nums_above}\")"
      ],
      "execution_count": 6,
      "outputs": [
        {
          "output_type": "stream",
          "text": [
            "How many day's Temperature: 4\n",
            "High Temperature for day 1: 28\n",
            "High Temperature for day 2: 30\n",
            "High Temperature for day 3: 31\n",
            "High Temperature for day 4: 35\n",
            "Average Temperature: 31.0\n",
            "124\n",
            "[28, 30, 31, 35]\n",
            "0 days above average: []\n",
            "0 days above average: []\n",
            "0 days above average: []\n",
            "1 days above average: [35]\n"
          ],
          "name": "stdout"
        }
      ]
    }
  ]
}