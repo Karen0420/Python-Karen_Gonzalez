{
  "nbformat": 4,
  "nbformat_minor": 0,
  "metadata": {
    "colab": {
      "name": "Untitled7.ipynb",
      "provenance": [],
      "authorship_tag": "ABX9TyOda91OZjxBOAMf7t3RD5f3",
      "include_colab_link": true
    },
    "kernelspec": {
      "name": "python3",
      "display_name": "Python 3"
    },
    "language_info": {
      "name": "python"
    }
  },
  "cells": [
    {
      "cell_type": "markdown",
      "metadata": {
        "id": "view-in-github",
        "colab_type": "text"
      },
      "source": [
        "<a href=\"https://colab.research.google.com/github/Karen0420/Python-Karen_Gonzalez/blob/main/Untitled7.ipynb\" target=\"_parent\"><img src=\"https://colab.research.google.com/assets/colab-badge.svg\" alt=\"Open In Colab\"/></a>"
      ]
    },
    {
      "cell_type": "markdown",
      "metadata": {
        "id": "5nyTXny37wQs"
      },
      "source": [
        "#Triangulos-patrones de repeticion \n",
        "##Primera forma:\n",
        "Triangulo con numeros \n"
      ]
    },
    {
      "cell_type": "code",
      "metadata": {
        "colab": {
          "base_uri": "https://localhost:8080/"
        },
        "id": "ENHbZQgm8AIs",
        "outputId": "b4cff363-c0f9-4033-80ec-b61b51bc725b"
      },
      "source": [
        "for i in range(10):\n",
        "  print(str(i)*i)\n",
        "  "
      ],
      "execution_count": 1,
      "outputs": [
        {
          "output_type": "stream",
          "text": [
            "\n",
            "1\n",
            "22\n",
            "333\n",
            "4444\n",
            "55555\n",
            "666666\n",
            "7777777\n",
            "88888888\n",
            "999999999\n"
          ],
          "name": "stdout"
        }
      ]
    },
    {
      "cell_type": "markdown",
      "metadata": {
        "id": "VBWo1c5K8IwA"
      },
      "source": [
        "##Segunda forma:\n",
        "Triangulo con *"
      ]
    },
    {
      "cell_type": "code",
      "metadata": {
        "colab": {
          "base_uri": "https://localhost:8080/"
        },
        "id": "BhPxgeUp8Na_",
        "outputId": "dba9201c-e1c7-40b1-dc7d-50925b3f2caf"
      },
      "source": [
        "num = 10\n",
        "for i in range(num):\n",
        "  for j in range(i):\n",
        "    print(\"*\",end=\"\")\n",
        "  print('.')"
      ],
      "execution_count": 2,
      "outputs": [
        {
          "output_type": "stream",
          "text": [
            ".\n",
            "*.\n",
            "**.\n",
            "***.\n",
            "****.\n",
            "*****.\n",
            "******.\n",
            "*******.\n",
            "********.\n",
            "*********.\n"
          ],
          "name": "stdout"
        }
      ]
    },
    {
      "cell_type": "markdown",
      "metadata": {
        "id": "MhZKwomm8djK"
      },
      "source": [
        "##Tercera forma:\n",
        "Solicitando la variacion deseada "
      ]
    },
    {
      "cell_type": "code",
      "metadata": {
        "colab": {
          "base_uri": "https://localhost:8080/"
        },
        "id": "emiflZix8jee",
        "outputId": "2a8e8adf-6b2b-4778-cd40-1b45ebc32922"
      },
      "source": [
        "num = int (input(\"Introduzca el numero de variaciones deseadas: \"))\n",
        "for i in range(num):\n",
        "  print(\"*\"*i)\n",
        "  "
      ],
      "execution_count": 3,
      "outputs": [
        {
          "output_type": "stream",
          "text": [
            "Introduzca el numero de variaciones deseadas: 20\n",
            "\n",
            "*\n",
            "**\n",
            "***\n",
            "****\n",
            "*****\n",
            "******\n",
            "*******\n",
            "********\n",
            "*********\n",
            "**********\n",
            "***********\n",
            "************\n",
            "*************\n",
            "**************\n",
            "***************\n",
            "****************\n",
            "*****************\n",
            "******************\n",
            "*******************\n"
          ],
          "name": "stdout"
        }
      ]
    },
    {
      "cell_type": "markdown",
      "metadata": {
        "id": "J3WCQHTV_I0y"
      },
      "source": [
        "##Cuarta forma:\n",
        "TRiangulo complejo (positivo y negativo) \n"
      ]
    },
    {
      "cell_type": "code",
      "metadata": {
        "colab": {
          "base_uri": "https://localhost:8080/"
        },
        "id": "dWOrE23q_OaF",
        "outputId": "dbd9f148-b925-4622-ddff-a5e3b1bc7ccd"
      },
      "source": [
        "num = 10\n",
        "for i in range(num):\n",
        "  for j in range(i):\n",
        "    print('*', end=\"\")\n",
        "  print(\"+\")\n",
        "\n",
        "for i in range(num,0,-1):\n",
        "  for j in range(i):\n",
        "    print('*',end=\"\")\n",
        "  print(\"-\")"
      ],
      "execution_count": 5,
      "outputs": [
        {
          "output_type": "stream",
          "text": [
            "+\n",
            "*+\n",
            "**+\n",
            "***+\n",
            "****+\n",
            "*****+\n",
            "******+\n",
            "*******+\n",
            "********+\n",
            "*********+\n",
            "**********-\n",
            "*********-\n",
            "********-\n",
            "*******-\n",
            "******-\n",
            "*****-\n",
            "****-\n",
            "***-\n",
            "**-\n",
            "*-\n"
          ],
          "name": "stdout"
        }
      ]
    }
  ]
}