{
  "nbformat": 4,
  "nbformat_minor": 0,
  "metadata": {
    "colab": {
      "name": "Untitled10.ipynb",
      "provenance": [],
      "authorship_tag": "ABX9TyPECiQQ14LyhsDLj+w+/CML",
      "include_colab_link": true
    },
    "kernelspec": {
      "name": "python3",
      "display_name": "Python 3"
    },
    "language_info": {
      "name": "python"
    }
  },
  "cells": [
    {
      "cell_type": "markdown",
      "metadata": {
        "id": "view-in-github",
        "colab_type": "text"
      },
      "source": [
        "<a href=\"https://colab.research.google.com/github/Karen0420/Python-Karen_Gonzalez/blob/main/Untitled10.ipynb\" target=\"_parent\"><img src=\"https://colab.research.google.com/assets/colab-badge.svg\" alt=\"Open In Colab\"/></a>"
      ]
    },
    {
      "cell_type": "code",
      "metadata": {
        "id": "TbOA4Ra980Iz"
      },
      "source": [
        ""
      ],
      "execution_count": null,
      "outputs": []
    },
    {
      "cell_type": "markdown",
      "metadata": {
        "id": "zlrV14as80se"
      },
      "source": [
        "#Calcular el area de un Triangulo:\n",
        "Formula matematica: base * altura / 2"
      ]
    },
    {
      "cell_type": "code",
      "metadata": {
        "colab": {
          "base_uri": "https://localhost:8080/"
        },
        "id": "2bKprqhX8_rX",
        "outputId": "8dbf7914-bbb7-4971-b910-f45b3fd1e799"
      },
      "source": [
        "print(\"How to calcule the area of a triangule\")\n",
        "base = float (input(\"Enter the base of your triangule \"))\n",
        "height = float (input(\"Enter the height of your triangule \"))\n",
        "area_triangule = (base * height)/2\n",
        "print(\"The area of your triangule is: {}\".format(area_triangule))"
      ],
      "execution_count": 1,
      "outputs": [
        {
          "output_type": "stream",
          "text": [
            "How to calcule the area of a triangule\n",
            "Enter the base of your triangule 3\n",
            "Enter the height of your triangule 3\n",
            "The area of your triangule is: 4.5\n"
          ],
          "name": "stdout"
        }
      ]
    }
  ]
}