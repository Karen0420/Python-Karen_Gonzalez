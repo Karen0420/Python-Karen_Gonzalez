{
  "nbformat": 4,
  "nbformat_minor": 0,
  "metadata": {
    "colab": {
      "name": "Untitled5.ipynb",
      "provenance": [],
      "authorship_tag": "ABX9TyMXjfTXd+TTlUkrMj4iFyM9",
      "include_colab_link": true
    },
    "kernelspec": {
      "name": "python3",
      "display_name": "Python 3"
    },
    "language_info": {
      "name": "python"
    }
  },
  "cells": [
    {
      "cell_type": "markdown",
      "metadata": {
        "id": "view-in-github",
        "colab_type": "text"
      },
      "source": [
        "<a href=\"https://colab.research.google.com/github/Karen0420/Python-Karen_Gonzalez/blob/main/Untitled5.ipynb\" target=\"_parent\"><img src=\"https://colab.research.google.com/assets/colab-badge.svg\" alt=\"Open In Colab\"/></a>"
      ]
    },
    {
      "cell_type": "code",
      "metadata": {
        "id": "M191NZWg9ckJ"
      },
      "source": [
        "#Conversor de Millas a Km y Viceversa "
      ],
      "execution_count": null,
      "outputs": []
    },
    {
      "cell_type": "code",
      "metadata": {
        "colab": {
          "base_uri": "https://localhost:8080/"
        },
        "id": "Al8QPJpAL-4I",
        "outputId": "26e6b8ac-e589-48fe-f61e-6b0d9ff518ae"
      },
      "source": [
        "def menu_selection():\n",
        "  print(4 * \"~\", \"CONVERT KM TO MILES AND MILES TO KM\", 4 * \"~\")\n",
        "  print(\"Choose a type of conversion\")\n",
        "  print(\"[1] Km to Miles\")\n",
        "  print(\"[2] Miles to Km\")\n",
        "\n",
        "main_loop = True\n",
        "\n",
        "while not main_loop == False:\n",
        "  menu_selection()\n",
        "  user_selection = str(input(\"So...Whay would you like to do? Enter your Choice [1 or 2]: \"))\n",
        "\n",
        "  if (user_selection == \"1\"):\n",
        "    user_in_km = int (input(\"Please. Enter the number of Kilometers would you like to convert: \"))\n",
        "    to_miles = user_in_km / 1.6093\n",
        "    print(30 * \"~%\" )\n",
        "    print(\"{} KM converts to {} MILES !.\".format(user_in_km,to_miles))\n",
        "\n",
        "    keep_converting = input(\"Would you like to continue converting? [yes | no]\")\n",
        "\n",
        "    if (keep_converting == \"yes\"):\n",
        "      continue\n",
        "    \n",
        "    elif (keep_converting == \"no\"):\n",
        "      main_loop = False\n",
        "   \n",
        "    else:\n",
        "      print(\"Wrong Choice ! Bye Bye!\")\n",
        "      break\n",
        "\n",
        "  elif (user_selection == \"2\"):\n",
        "    user_in_miles = int (input(\"Please, Enter the number of Miles Would you like to convert:\"))\n",
        "    to_kilometers = round(user_in_miles * 1.6093,3)\n",
        "    print(30 * \"%~\")\n",
        "    print(\"{} Miles converts to {} Kilometers.\".format(user_in_miles,to_kilometers))\n",
        "    print(30 * \"%~\")\n",
        "    keep_converting = input(\"Would you like to continue converting? [yes | no]\")\n",
        "\n",
        "    if (keep_converting == \"yes\"):\n",
        "      continue\n",
        "   \n",
        "    elif (keep_converting == \"no\"):\n",
        "      main_loop = False\n",
        "    \n",
        "    else:\n",
        "      print(\"Wrong Choice! Bye Bye!\")\n",
        "      break "
      ],
      "execution_count": 5,
      "outputs": [
        {
          "output_type": "stream",
          "text": [
            "~~~~ CONVERT KM TO MILES AND MILES TO KM ~~~~\n",
            "Choose a type of conversion\n",
            "[1] Km to Miles\n",
            "[2] Miles to Km\n",
            "So...Whay would you like to do? Enter your Choice [1 or 2]: 2\n",
            "Please, Enter the number of Miles Would you like to convert:100\n",
            "%~%~%~%~%~%~%~%~%~%~%~%~%~%~%~%~%~%~%~%~%~%~%~%~%~%~%~%~%~%~\n",
            "100 Miles converts to 160.93 Kilometers.\n",
            "%~%~%~%~%~%~%~%~%~%~%~%~%~%~%~%~%~%~%~%~%~%~%~%~%~%~%~%~%~%~\n",
            "Would you like to continue converting? [yes | no]no\n"
          ],
          "name": "stdout"
        }
      ]
    },
    {
      "cell_type": "markdown",
      "metadata": {
        "id": "y_9pxtvL9e_i"
      },
      "source": [
        ""
      ]
    }
  ]
}