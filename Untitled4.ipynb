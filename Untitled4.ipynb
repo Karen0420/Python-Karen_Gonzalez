{
  "nbformat": 4,
  "nbformat_minor": 0,
  "metadata": {
    "colab": {
      "name": "Untitled4.ipynb",
      "provenance": [],
      "authorship_tag": "ABX9TyO+7Lse/+3k7Um5ta2TQR/+",
      "include_colab_link": true
    },
    "kernelspec": {
      "name": "python3",
      "display_name": "Python 3"
    },
    "language_info": {
      "name": "python"
    }
  },
  "cells": [
    {
      "cell_type": "markdown",
      "metadata": {
        "id": "view-in-github",
        "colab_type": "text"
      },
      "source": [
        "<a href=\"https://colab.research.google.com/github/Karen0420/Python-Karen_Gonzalez/blob/main/Untitled4.ipynb\" target=\"_parent\"><img src=\"https://colab.research.google.com/assets/colab-badge.svg\" alt=\"Open In Colab\"/></a>"
      ]
    },
    {
      "cell_type": "markdown",
      "metadata": {
        "id": "PI_kpBq45p_Z"
      },
      "source": [
        "#Conversor de minutos a Horas \n",
        "##Insertando los minutos a convertir "
      ]
    },
    {
      "cell_type": "code",
      "metadata": {
        "colab": {
          "base_uri": "https://localhost:8080/"
        },
        "id": "kHAwtLxz2zIf",
        "outputId": "7cece126-5887-440a-8c62-5c0a3f662043"
      },
      "source": [
        "def timeconv(num):\n",
        "  \n",
        "  minutes = num % 60\n",
        "  print(\"Minutes:\", minutes)\n",
        "\n",
        "  hours = (num - minutes)/ 60\n",
        "  print(\"Hours: \", hours)\n",
        "\n",
        "  result = str(hours) + \"hours\" + \":\" + str(minutes) + \"min.\"\n",
        "  return result\n",
        "\n",
        "print(timeconv(566))"
      ],
      "execution_count": 2,
      "outputs": [
        {
          "output_type": "stream",
          "text": [
            "Minutes: 26\n",
            "Hours:  9.0\n",
            "9.0hours:26min.\n"
          ],
          "name": "stdout"
        }
      ]
    },
    {
      "cell_type": "markdown",
      "metadata": {
        "id": "ql_YmoHj7LD9"
      },
      "source": [
        "##Solicitando al usuario los minutos a convertir "
      ]
    },
    {
      "cell_type": "code",
      "metadata": {
        "colab": {
          "base_uri": "https://localhost:8080/"
        },
        "id": "2vcR6jwt7PMS",
        "outputId": "317ab4d7-da34-421e-99f5-db610cc9dd3b"
      },
      "source": [
        "num = int (input(\"Please, enter a number: \"))\n",
        "\n",
        "minutes = num % 60\n",
        "\n",
        "print(\"Minutes: \", minutes)\n",
        "\n",
        "hours = (num - minutes) / 60\n",
        "\n",
        "print(\"Hours: \", hours)\n",
        "\n",
        "result = str(hours) + \" hours \" + \" : \" + str(minutes) + \" min. \"\n",
        "\n",
        "print(result)"
      ],
      "execution_count": 5,
      "outputs": [
        {
          "output_type": "stream",
          "text": [
            "Please, enter a number: 65\n",
            "Minutes:  5\n",
            "Hours:  1.0\n",
            "1.0 hours  : 5 min. \n"
          ],
          "name": "stdout"
        }
      ]
    }
  ]
}